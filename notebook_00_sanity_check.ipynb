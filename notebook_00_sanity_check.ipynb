{
 "cells": [
  {
   "cell_type": "code",
   "execution_count": 1,
   "id": "140effdb-08aa-4420-81cc-4c8186afe67c",
   "metadata": {},
   "outputs": [],
   "source": [
    "import openai\n",
    "import pandas as pd\n",
    "import time\n",
    "import os\n",
    "import base64\n",
    "from dotenv import load_dotenv\n",
    "load_dotenv()\n",
    "openai_api_key = os.getenv(\"OPENAI_API_KEY\")"
   ]
  },
  {
   "cell_type": "code",
   "execution_count": 2,
   "id": "9b6a5c7c-2f95-4df0-b971-a590581bda07",
   "metadata": {},
   "outputs": [
    {
     "name": "stdout",
     "output_type": "stream",
     "text": [
      "Image Analysis Summary: The image depicts a hand applying a force \\( F \\) to a wrench. The wrench is shown with a pivot point labeled \\( O \\) and a distance \\( d \\) from the pivot to where the force is applied. The wrench is being rotated around the pivot point \\( O \\) in a circular motion, indicated by the blue arrow around the axis labeled \\( z \\). This setup illustrates the concept of torque, where the force applied at a distance from the pivot causes rotation.\n"
     ]
    }
   ],
   "source": [
    "# Set up OpenAI client with your API key\n",
    "client = openai.OpenAI(api_key=openai_api_key)\n",
    "\n",
    "# Function to serialize image to base64\n",
    "def serialize_image(image_path):\n",
    "    \"\"\"Convert an image to a base64-encoded string.\"\"\"\n",
    "    with open(image_path, \"rb\") as img_file:\n",
    "        img_bytes = img_file.read()\n",
    "        return base64.b64encode(img_bytes).decode(\"utf-8\")  # Convert bytes to UTF-8 string\n",
    "\n",
    "# Function to send image to OpenAI GPT-4 Turbo with Vision\n",
    "def analyze_image(image_path):\n",
    "    \"\"\"Send base64-encoded image to OpenAI API for vision-based inference.\"\"\"\n",
    "    base64_image = serialize_image(image_path)  # Convert image to base64\n",
    "    try:\n",
    "        client = openai.OpenAI(api_key=openai_api_key)  # Replace with your API key\n",
    "\n",
    "        response = client.chat.completions.create(\n",
    "            model=\"gpt-4o\",  # Vision-enabled GPT-4 model\n",
    "            messages=[\n",
    "                {\"role\": \"system\", \"content\": \"Describe the image content in detail.\"},\n",
    "                {\n",
    "                    \"role\": \"user\",\n",
    "                    \"content\": [\n",
    "                        {\"type\": \"text\", \"text\": \"What is in this image?\"},\n",
    "                        {\"type\": \"image_url\", \"image_url\": {\"url\": f\"data:image/jpeg;base64,{base64_image}\"}}\n",
    "                    ],\n",
    "                },\n",
    "            ],\n",
    "            temperature=0.5,\n",
    "            max_tokens=300\n",
    "        )\n",
    "\n",
    "        return response.choices[0].message.content.strip()  # Extract the AI's response\n",
    "\n",
    "    except Exception as e:\n",
    "        print(f\"Error: {e}\")\n",
    "        return None\n",
    "\n",
    "# Example Usage\n",
    "image_path = \"ex1.jpg\"  # Path to your image file\n",
    "summary = analyze_image(image_path)\n",
    "print(\"Image Analysis Summary:\", summary)\n"
   ]
  },
  {
   "cell_type": "code",
   "execution_count": 4,
   "id": "a11a4c77-2403-4247-835c-b4afc76ead3c",
   "metadata": {},
   "outputs": [],
   "source": [
    "from io import BytesIO\n",
    "from PIL import Image\n",
    "\n",
    "# Your Base64 string\n",
    "base64_image = serialize_image(image_path)\n",
    "\n",
    "# Decode and open image\n",
    "image_data = base64.b64decode(base64_image)\n",
    "image = Image.open(BytesIO(image_data))\n",
    "image.show()"
   ]
  },
  {
   "cell_type": "code",
   "execution_count": 13,
   "id": "04b3d4d1-b390-4038-93cb-966c6137110c",
   "metadata": {},
   "outputs": [
    {
     "name": "stdout",
     "output_type": "stream",
     "text": [
      "Error: Error code: 400 - {'error': {'message': \"Invalid type for 'messages[1].content': expected one of a string or array of objects, but got an object instead.\", 'type': 'invalid_request_error', 'param': 'messages[1].content', 'code': 'invalid_type'}}\n",
      "GPT-4's response: None\n"
     ]
    }
   ],
   "source": [
    "import pickle\n",
    "import base64\n",
    "import openai\n",
    "\n",
    "\n",
    "def serialize_object(obj):\n",
    "    \"\"\"Serialize an object using pickle and encode it as a base64 string.\"\"\"\n",
    "    obj_bytes = pickle.dumps(obj)  # Convert object to bytes\n",
    "    return base64.b64encode(obj_bytes).decode('utf-8')  # Encode as base64 string\n",
    "\n",
    "# Function to get summary from OpenAI API\n",
    "def get_summary(text):\n",
    "    try:\n",
    "        response = client.chat.completions.create(\n",
    "            model=\"gpt-4\",  # Use \"gpt-3.5-turbo\" if needed\n",
    "            messages=[\n",
    "                {\"role\": \"system\", \"content\": \"I have a tabular content, plz describe the contents.\"},\n",
    "                {\"role\": \"user\", \"content\": text}\n",
    "            ],\n",
    "            temperature=0.5,\n",
    "            max_tokens=300\n",
    "        )\n",
    "        return response.choices[0].message.content.strip()\n",
    "    except Exception as e:\n",
    "        print(f\"Error: {e}\")\n",
    "        return None\n",
    "\n",
    "# Example object (could be a dictionary, DataFrame, etc.)\n",
    "my_dict = {\"key1\": \"value1\", \"key2\": \"value2\"}\n",
    "\n",
    "# Step 1: Serialize the object\n",
    "base64_str = serialize_object(my_dict)\n",
    "\n",
    "# Step 2: Send the base64 string to GPT-4 for processing\n",
    "bytes_data = base64.b64decode(base64_str)\n",
    "obj = pickle.loads(bytes_data)\n",
    "gpt_response = get_summary(obj)\n",
    "\n",
    "# Print the response from GPT-4\n",
    "print(\"GPT-4's response:\", gpt_response)\n"
   ]
  },
  {
   "cell_type": "code",
   "execution_count": 12,
   "id": "b947f4e7-e480-4bef-b48f-a700ca9c2e8b",
   "metadata": {},
   "outputs": [
    {
     "name": "stdout",
     "output_type": "stream",
     "text": [
      "{'key1': 'value1', 'key2': 'value2'}\n"
     ]
    }
   ],
   "source": [
    "print(obj)"
   ]
  },
  {
   "cell_type": "code",
   "execution_count": null,
   "id": "7e19aeb9-bd1f-4585-a91f-c95bd75e1671",
   "metadata": {},
   "outputs": [],
   "source": []
  }
 ],
 "metadata": {
  "kernelspec": {
   "display_name": "Python 3 (ipykernel)",
   "language": "python",
   "name": "python3"
  },
  "language_info": {
   "codemirror_mode": {
    "name": "ipython",
    "version": 3
   },
   "file_extension": ".py",
   "mimetype": "text/x-python",
   "name": "python",
   "nbconvert_exporter": "python",
   "pygments_lexer": "ipython3",
   "version": "3.11.10"
  }
 },
 "nbformat": 4,
 "nbformat_minor": 5
}
